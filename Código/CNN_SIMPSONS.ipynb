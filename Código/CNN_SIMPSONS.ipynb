{
  "nbformat": 4,
  "nbformat_minor": 0,
  "metadata": {
    "colab": {
      "provenance": []
    },
    "kernelspec": {
      "name": "python3",
      "display_name": "Python 3"
    },
    "language_info": {
      "name": "python"
    }
  },
  "cells": [
    {
      "cell_type": "code",
      "execution_count": null,
      "metadata": {
        "id": "UbdKSUuPgjlv"
      },
      "outputs": [],
      "source": [
        "# This Python 3 environment comes with many helpful analytics libraries installed\n",
        "# It is defined by the kaggle/python Docker image: https://github.com/kaggle/docker-python\n",
        "# For example, here's several helpful packages to load\n",
        "\n",
        "import numpy as np # linear algebra\n",
        "import pandas as pd # data processing, CSV file I/O (e.g. pd.read_csv)\n",
        "\n",
        "# Input data files are available in the read-only \"../input/\" directory\n",
        "# For example, running this (by clicking run or pressing Shift+Enter) will list all files under the input directory\n",
        "\n",
        "import os\n",
        "\n",
        "# You can write up to 20GB to the current directory (/kaggle/working/) that gets preserved as output when you create a version using \"Save & Run All\" \n",
        "# You can also write temporary files to /kaggle/temp/, but they won't be saved outside of the current session"
      ]
    },
    {
      "cell_type": "code",
      "source": [
        "import matplotlib.pyplot as plt\n",
        "import PIL\n",
        "import seaborn as sns\n",
        "import tensorflow as tf\n",
        "from tensorflow import keras\n",
        "from tensorflow.keras import layers\n",
        "from tensorflow.keras.preprocessing.image import ImageDataGenerator\n",
        "from keras.preprocessing import image\n",
        "\n",
        "print(f'tensorflow version: {tf.__version__}')"
      ],
      "metadata": {
        "id": "_KQtMkyegmY6"
      },
      "execution_count": null,
      "outputs": []
    },
    {
      "cell_type": "code",
      "source": [
        "# Working path\n",
        "PATH_DATASET = '/kaggle/input/dataset-bart-or-homer/dataset_personagens/dataset_personagens'\n",
        "print('List dir:')\n",
        "for file in os.listdir(PATH_DATASET):\n",
        "  print(file)"
      ],
      "metadata": {
        "id": "x4eXGqpAgpsR"
      },
      "execution_count": null,
      "outputs": []
    },
    {
      "cell_type": "code",
      "source": [
        "train_dir = os.path.join(PATH_DATASET, 'training_set')\n",
        "validation_dir = os.path.join(PATH_DATASET, 'test_set')\n",
        "\n",
        "train_bart_dir = os.path.join(train_dir, 'bart')\n",
        "train_homer_dir = os.path.join(train_dir, 'homer')\n",
        "validation_bart_dir = os.path.join(validation_dir, 'bart')\n",
        "validation_homer_dir = os.path.join(validation_dir, 'homer')\n",
        "\n",
        "num_bart_tr = len(os.listdir(train_bart_dir))\n",
        "num_homer_tr = len(os.listdir(train_homer_dir))\n",
        "\n",
        "num_bart_val = len(os.listdir(validation_bart_dir))\n",
        "num_homer_val = len(os.listdir(validation_homer_dir))\n",
        "\n",
        "total_train = num_bart_tr + num_homer_tr\n",
        "total_val = num_bart_val + num_homer_val\n",
        "\n",
        "print('total training bart images:', num_bart_tr)\n",
        "print('total training homer images:', num_homer_tr)\n",
        "\n",
        "print('total validation bart images:', num_bart_val)\n",
        "print('total validation homer images:', num_homer_val)\n",
        "print(\"--\")\n",
        "print(\"Total training images:\", total_train)\n",
        "print(\"Total validation images:\", total_val)"
      ],
      "metadata": {
        "id": "ZacqtJZogrEo"
      },
      "execution_count": null,
      "outputs": []
    },
    {
      "cell_type": "code",
      "source": [
        "img_bart = os.path.join(train_bart_dir, os.listdir(train_bart_dir)[5])\n",
        "PIL.Image.open(img_bart)"
      ],
      "metadata": {
        "id": "QaY27HKzgslx"
      },
      "execution_count": null,
      "outputs": []
    },
    {
      "cell_type": "code",
      "source": [
        "img_homer = os.path.join(train_homer_dir, os.listdir(train_homer_dir)[13])\n",
        "PIL.Image.open(img_homer)"
      ],
      "metadata": {
        "id": "Oy-DtgZDgx6x"
      },
      "execution_count": null,
      "outputs": []
    },
    {
      "cell_type": "code",
      "source": [
        "BATCH_SIZE = 32\n",
        "IMG_SIZE = (160, 160)\n",
        "\n",
        "# dados treino com aumento do conjunto de imagems\n",
        "train_image_gen = ImageDataGenerator(rescale = 1./255,\n",
        "                               rotation_range = 7,\n",
        "                               horizontal_flip = True,\n",
        "                               shear_range = 0.2,\n",
        "                               height_shift_range = 0.05,\n",
        "                               zoom_range = 0.2)\n",
        "\n",
        "val_image_gen = ImageDataGenerator(rescale = 1./255)\n",
        "\n",
        "train_data_gen = train_image_gen.flow_from_directory(batch_size=BATCH_SIZE,\n",
        "                                                     directory=train_dir,\n",
        "                                                     shuffle=True,\n",
        "                                                     target_size=IMG_SIZE,\n",
        "                                                     class_mode='binary')\n",
        "\n",
        "val_data_gen = val_image_gen.flow_from_directory(batch_size=BATCH_SIZE,\n",
        "                                                 directory=validation_dir,\n",
        "                                                 shuffle=True,\n",
        "                                                 target_size=IMG_SIZE,\n",
        "                                                 class_mode='binary')"
      ],
      "metadata": {
        "id": "BdrqVa6QgzhY"
      },
      "execution_count": null,
      "outputs": []
    },
    {
      "cell_type": "code",
      "source": [
        "sample_training_images, _ = next(val_data_gen)\n",
        "\n",
        "def plotImages(images_arr):\n",
        "    fig, axes = plt.subplots(1, 5, figsize=(10,10))\n",
        "    axes = axes.flatten()\n",
        "    for img, ax in zip( images_arr, axes):\n",
        "        ax.imshow(img)\n",
        "        ax.axis('off')\n",
        "    plt.tight_layout()\n",
        "    plt.show()"
      ],
      "metadata": {
        "id": "42OOTL-dg0u4"
      },
      "execution_count": null,
      "outputs": []
    },
    {
      "cell_type": "code",
      "source": [
        "\n",
        "model = keras.Sequential([\n",
        "    layers.Conv2D(16, 3, padding='same', activation='elu', input_shape=(160, 160 ,3)),\n",
        "    layers.BatchNormalization(),\n",
        "    layers.MaxPooling2D(),\n",
        "    layers.Conv2D(32, 3, padding='same', activation='elu'),\n",
        "    layers.MaxPooling2D(),\n",
        "    layers.Conv2D(64, 3, padding='same', activation='elu'),\n",
        "    layers.MaxPooling2D(),\n",
        "    layers.Flatten(),\n",
        "    layers.Dense(512, activation='elu'),\n",
        "    layers.Dropout(0.2),\n",
        "    layers.Dense(512, activation='elu'),\n",
        "    layers.Dropout(0.2),\n",
        "    layers.Dense(1, activation='sigmoid')\n",
        "])\n",
        "\n",
        "model.compile(optimizer=keras.optimizers.Adam(1e-3),\n",
        "              loss='binary_crossentropy',\n",
        "              metrics=['accuracy'])\n",
        "\n",
        "model.summary()"
      ],
      "metadata": {
        "id": "mPgDHvh6g19B"
      },
      "execution_count": null,
      "outputs": []
    },
    {
      "cell_type": "code",
      "source": [
        "# Mostra o progresso do treinamento imprimindo um único ponto para cada epoch completada\n",
        "class PrintDot(keras.callbacks.Callback):\n",
        "  def on_epoch_end(self, epoch, logs):\n",
        "    if epoch % 100 == 0: print('')\n",
        "    print('.>>', end='')\n",
        "\n",
        "steps_per_epoch = train_data_gen.samples // train_data_gen.batch_size\n",
        "validation_steps = val_data_gen.samples // val_data_gen.batch_size\n",
        "epochs=100\n",
        "    \n",
        "history = model.fit(\n",
        "    train_data_gen,\n",
        "    epochs=epochs, \n",
        "    steps_per_epoch=steps_per_epoch,\n",
        "    validation_data=val_data_gen,\n",
        "    validation_steps=validation_steps,\n",
        "    callbacks=[PrintDot()],\n",
        "    verbose=0\n",
        "    )"
      ],
      "metadata": {
        "id": "FiIu--Igg3NZ"
      },
      "execution_count": null,
      "outputs": []
    },
    {
      "cell_type": "code",
      "source": [
        "# Dataframe results model\n",
        "hist = pd.DataFrame(history.history)\n",
        "hist['epoch'] = history.epoch\n",
        "hist.describe()"
      ],
      "metadata": {
        "id": "uMYRokXGg4XC"
      },
      "execution_count": null,
      "outputs": []
    },
    {
      "cell_type": "code",
      "source": [
        "def subplots(df, vline=None):\n",
        "  cols_names = df.columns.tolist()\n",
        "  cases = list(range(len(cols_names[:-1])))\n",
        "  plot_params = {\n",
        "      'axes.titlesize': 12,\n",
        "      'xtick.labelsize': 9,\n",
        "      'ytick.labelsize': 9,\n",
        "      }\n",
        "  with plt.rc_context(plot_params):\n",
        "    with plt.style.context('seaborn-darkgrid'):\n",
        "      fig, axs = plt.subplots(2, 2, figsize=(8, 4), constrained_layout=True, sharex=True)\n",
        "      for ax, i in zip(axs.flat, cases):\n",
        "          ax.set_title(cols_names[:-1][i])\n",
        "          ax.plot(df['epoch'],  df[cols_names[:-1][i]])\n",
        "          #vline = ax.axvline(x=2, color='#7fb800')\n",
        "          x = ax.axvline(x=vline, color='#ffb400') if vline != None else False\n",
        "      fig.text(0.5, -0.05, 'epoch', ha='center')\n",
        "\n",
        "subplots(hist)"
      ],
      "metadata": {
        "id": "GDELNUaDg5VA"
      },
      "execution_count": null,
      "outputs": []
    },
    {
      "cell_type": "code",
      "source": [
        "eval_results = model.evaluate(val_data_gen)\n",
        "print('Testing set Accuracy: {:.2f}'.format(eval_results[1]))\n",
        "print('Testing set Accuracy: {:2.2%}'.format(eval_results[1]))"
      ],
      "metadata": {
        "id": "1bV7hiNKg6Qp"
      },
      "execution_count": null,
      "outputs": []
    },
    {
      "cell_type": "code",
      "source": [
        "test_bart = os.path.join(train_bart_dir, os.listdir(train_bart_dir)[5])\n",
        "homer_test = os.path.join(train_homer_dir, os.listdir(train_homer_dir)[13])\n",
        "inv_map = {train_data_gen.class_indices[k] : k for k in train_data_gen.class_indices}\n",
        "inv_map"
      ],
      "metadata": {
        "id": "xfL4AXs6g7Mq"
      },
      "execution_count": null,
      "outputs": []
    },
    {
      "cell_type": "code",
      "source": [
        "imagem_teste = image.load_img(homer_test,\n",
        "                              target_size = (160,160))\n",
        "imagem_teste = image.img_to_array(imagem_teste)\n",
        "imagem_teste /= 255\n",
        "imagem_teste = np.expand_dims(imagem_teste, axis = 0)\n",
        "\n",
        "previsao = model.predict(imagem_teste).flatten()\n",
        "prev_name = tf.where(previsao < 0.5, 0, 1).numpy()\n",
        "\n",
        "inv_map[prev_name[0]], previsao"
      ],
      "metadata": {
        "id": "bVbJW9b0g8Of"
      },
      "execution_count": null,
      "outputs": []
    },
    {
      "cell_type": "code",
      "source": [
        "img1, nome = next(val_data_gen)\n",
        "pred = model.predict(img1).flatten()\n",
        "pred = tf.where(pred < 0.5, 0, 1)\n",
        "plt.imshow(img1[0])\n",
        "title = inv_map[pred.numpy()[0]]\n",
        "plt.title(f'Predict name: {title}')\n",
        "plt.axis(\"off\")\n",
        "plt.show()"
      ],
      "metadata": {
        "id": "eUa_zC3Kg9Kt"
      },
      "execution_count": null,
      "outputs": []
    }
  ]
}